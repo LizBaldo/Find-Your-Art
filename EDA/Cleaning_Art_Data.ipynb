{
 "cells": [
  {
   "cell_type": "markdown",
   "metadata": {},
   "source": [
    "# Wikiart data cleanup:\n",
    "## The images and metadata were downloaded using the amazing script from https://github.com/lucasdavid/wikiart, which was adapted to convert more data (artist name and title) in the final CSV file\n",
    "\n",
    "### First, load the dataset (only metadata,  not the images)"
   ]
  },
  {
   "cell_type": "code",
   "execution_count": null,
   "metadata": {},
   "outputs": [],
   "source": [
    "from matplotlib import pyplot as plt\n",
    "import numpy as np\n",
    "import pandas\n",
    "data = pandas.read_csv('wikiart.csv', encoding='utf-8')\n",
    "data.head()"
   ]
  },
  {
   "cell_type": "markdown",
   "metadata": {},
   "source": [
    "### Only keep what is necessary for the app / model and remove NANs"
   ]
  },
  {
   "cell_type": "code",
   "execution_count": null,
   "metadata": {},
   "outputs": [],
   "source": [
    "labels = data[['contentId','title','artistName','url', 'style','artistUrl']].copy()\n",
    "labels=labels.dropna(subset=[\"style\"])\n",
    "# Only keep the 25 most prolific styles (enough data left for training)\n",
    "style_count = labels['style'].value_counts()\n",
    "Styles = style_count[0:25]\n",
    "Styles"
   ]
  },
  {
   "cell_type": "markdown",
   "metadata": {},
   "source": [
    "### Remove parenthesis from labels (will cause trouble when calling descriptions later in the app)"
   ]
  },
  {
   "cell_type": "code",
   "execution_count": null,
   "metadata": {},
   "outputs": [],
   "source": [
    "labels=labels.replace({'Naïve Art (Primitivism)': 'Naïve Art'})\n",
    "labels=labels.replace({'Art Nouveau (Modern)': 'Modern'})\n",
    "labels=labels.replace({'Mannerism (Late Renaissance)': 'Late Renaissance'})\n",
    "style_count = labels['style'].value_counts()\n",
    "Styles = style_count[0:25]\n",
    "Styles"
   ]
  },
  {
   "cell_type": "markdown",
   "metadata": {},
   "source": [
    "### Visualize the data distribution"
   ]
  },
  {
   "cell_type": "code",
   "execution_count": null,
   "metadata": {},
   "outputs": [],
   "source": [
    "with plt.xkcd():\n",
    "    fig = plt.figure(num=None, figsize=(8, 10), dpi=100, facecolor='w', edgecolor='k')\n",
    "    ax = fig.add_axes((0.2, 0.9, 0.9, 0.5))\n",
    "    Styles.plot(kind = \"barh\")\n",
    "    plt.xlabel('NUMBER OF ARTWORKS')\n",
    "    plt.title(\"PROLIFIC STYLES FROM WIKIART DATA\")\n",
    "\n",
    "    plt.show()\n",
    "    fig.savefig('Wikiart_data_overview_25.pdf',bbox_inches='tight')\n"
   ]
  },
  {
   "cell_type": "markdown",
   "metadata": {},
   "source": [
    "### Some urls were not found, leading to no data downloads: need to remove them"
   ]
  },
  {
   "cell_type": "code",
   "execution_count": null,
   "metadata": {},
   "outputs": [],
   "source": [
    "# Identify corrupted images:\n",
    "import cv2\n",
    "import os\n",
    "# Drop rows not containing the above styles:\n",
    "Styles = Styles.index\n",
    "DATA = labels[labels['style'].isin(Styles)]\n",
    "DATA['contentId']=DATA['contentId'].apply(str)\n",
    "bad_images = []\n",
    "for (i, filename) in enumerate(DATA.contentId):\n",
    "    imagePath = '/Users/lizbaldo/Desktop/wikiart-master/wikiart/images/' + filename + '.jpg'\n",
    "    # Verify if file exists:\n",
    "    if os.path.exists(imagePath):\n",
    "        image = cv2.imread(imagePath)\n",
    "        try:\n",
    "            cv2.resize(image, (128,128)).flatten()\n",
    "        except:\n",
    "            print('corrupted: ' + imagePath)    \n",
    "            bad_images.append(filename)\n",
    "    else:\n",
    "        print('no path: ' + imagePath)    \n",
    "        bad_images.append(filename)\n",
    "        \n",
    "    # show an update every 200 images until the last image\n",
    "    if i > 0 and ((i + 1)% 200 == 0 or i ==len(DATA.contentId)-1):\n",
    "        print(\"[INFO] processed {}/{}\".format(i+1, len(DATA.contentId)))\n",
    "\n",
    "images_to_remove = set(bad_images)\n",
    "DATA = DATA[~DATA['contentId'].isin(images_to_remove)]"
   ]
  },
  {
   "cell_type": "markdown",
   "metadata": {},
   "source": [
    "### Separate and move images from the download folder into training and validation folders"
   ]
  },
  {
   "cell_type": "code",
   "execution_count": null,
   "metadata": {},
   "outputs": [],
   "source": [
    "#Split data into 700 images for training and 300 images for testing for each class:\n",
    "for (i,str_style) in enumerate(Styles):\n",
    "    print(str_style)\n",
    "    DATA_tmp = DATA[DATA['style'].isin([str_style])]\n",
    "    training = DATA_tmp.sample(n=700)\n",
    "    training['contentId'] = training['contentId'].apply(str)\n",
    "    filename1 = training['contentId']\n",
    "    for str_1 in filename1:\n",
    "        try:\n",
    "            os.rename('/Users/lizbaldo/Desktop/wikiart-master/wikiart/images/' + str_1 + '.jpg', '/Users/lizbaldo/Desktop/wikiart-master/wikiart/train/' + str_style + '/' + str_1 + '.jpg')\n",
    "        except:\n",
    "            print(str_1 + 'not found')\n",
    "    DATA_tmp = DATA_tmp[~DATA_tmp['contentId'].isin(filename1)]\n",
    "    testing = DATA_tmp.sample(n=300)\n",
    "    filename2 = testing['contentId'].apply(str)\n",
    "    for str_2 in filename2:\n",
    "        try:\n",
    "            os.rename('/Users/lizbaldo/Desktop/wikiart-master/wikiart/images/' + str_2 + '.jpg', '/Users/lizbaldo/Desktop/wikiart-master/wikiart/val/' + str_style + '/' + str_2 + '.jpg')\n",
    "        except:\n",
    "            print(str_2 + 'not found')\n",
    "    # show an update every 10 images until the last image\n",
    "    if i > 0 and ((i + 1)% 10 == 0 or i ==1000-1):\n",
    "        print(\"[INFO] processed {}/{}\".format(i+1, 1000))"
   ]
  },
  {
   "cell_type": "markdown",
   "metadata": {},
   "source": [
    "### Clean up artists names"
   ]
  },
  {
   "cell_type": "code",
   "execution_count": null,
   "metadata": {},
   "outputs": [],
   "source": [
    "for (i,name) in enumerate(DATA['artistUrl']):\n",
    "    if i > 0 and (i + 1)% 200 == 0:\n",
    "        print(\"[INFO] processed {}\".format(i+1))\n",
    "    try:\n",
    "        tmp1 = name.replace(\"-\", \" \")\n",
    "        tmp2 = tmp1.title()\n",
    "        DATA['artistName'].iloc[i] = tmp2\n",
    "    except:\n",
    "        print(name)\n",
    "DATA.head()"
   ]
  },
  {
   "cell_type": "markdown",
   "metadata": {},
   "source": [
    "### Save into new csv file"
   ]
  },
  {
   "cell_type": "code",
   "execution_count": null,
   "metadata": {
    "collapsed": true
   },
   "outputs": [],
   "source": [
    "data.to_csv('cleaned_wikiart_data.csv')"
   ]
  }
 ],
 "metadata": {
  "kernelspec": {
   "display_name": "Python 3",
   "language": "python",
   "name": "python3"
  },
  "language_info": {
   "codemirror_mode": {
    "name": "ipython",
    "version": 3
   },
   "file_extension": ".py",
   "mimetype": "text/x-python",
   "name": "python",
   "nbconvert_exporter": "python",
   "pygments_lexer": "ipython3",
   "version": "3.6.3"
  }
 },
 "nbformat": 4,
 "nbformat_minor": 2
}
